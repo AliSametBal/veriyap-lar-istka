{
  "nbformat": 4,
  "nbformat_minor": 0,
  "metadata": {
    "colab": {
      "provenance": []
    },
    "kernelspec": {
      "name": "python3",
      "display_name": "Python 3"
    },
    "language_info": {
      "name": "python"
    }
  },
  "cells": [
    {
      "cell_type": "markdown",
      "source": [
        "Python progmlama dilinde print komutu ekrandan kullanıcıya bilgi veren bir koddur\n",
        "Veri Yapıları ve Algoritmalar dersi ilk kodlama çıktısıdır İGÜ İSTKA SİBER AKEDEMİ MERKEZİ 19.08.2024"
      ],
      "metadata": {
        "id": "JoRUsI-W6vqg"
      }
    },
    {
      "cell_type": "code",
      "execution_count": 8,
      "metadata": {
        "id": "urqjzBoi2rVS",
        "colab": {
          "base_uri": "https://localhost:8080/"
        },
        "outputId": "448c0361-4725-481b-8832-bbd611b02dd2"
      },
      "outputs": [
        {
          "output_type": "stream",
          "name": "stdout",
          "text": [
            "Merhaba,İGÜ-İSTKA\n"
          ]
        }
      ],
      "source": [
        "print(\"Merhaba,İGÜ-İSTKA\") # print ekrana çıktı veren koddur"
      ]
    },
    {
      "cell_type": "code",
      "source": [
        "import sys #impor pyhton programla dilinide yazılama kütüphane eklemeye yarayab bir kod\n",
        "print(sys.version)"
      ],
      "metadata": {
        "colab": {
          "base_uri": "https://localhost:8080/"
        },
        "id": "I5vRYiAE6Cq7",
        "outputId": "2a522e94-8476-4db7-fb5e-3459455f5182"
      },
      "execution_count": 10,
      "outputs": [
        {
          "output_type": "stream",
          "name": "stdout",
          "text": [
            "3.10.12 (main, Jul 29 2024, 16:56:48) [GCC 11.4.0]\n"
          ]
        }
      ]
    },
    {
      "cell_type": "code",
      "source": [
        "from google.colab import drive # google colab-drive bağlantısı\n",
        "drive.mount('/content/drive')"
      ],
      "metadata": {
        "colab": {
          "base_uri": "https://localhost:8080/"
        },
        "id": "SoXZf9My7H3n",
        "outputId": "1c824392-afed-4b57-9193-645510d3d172"
      },
      "execution_count": 17,
      "outputs": [
        {
          "output_type": "stream",
          "name": "stdout",
          "text": [
            "Mounted at /content/drive\n"
          ]
        }
      ]
    },
    {
      "cell_type": "code",
      "source": [
        "import os\n",
        "os.chdir('/content/drive/MyDrive/VERIYAPILARI_ISTKA')\n",
        "!pwd # bize kodun çıktısını dosya yolu olarak veren kod bloğudur"
      ],
      "metadata": {
        "colab": {
          "base_uri": "https://localhost:8080/"
        },
        "id": "e_D5Ht0E857n",
        "outputId": "1f708f62-4b7e-498e-c017-b86e9174d55e"
      },
      "execution_count": 19,
      "outputs": [
        {
          "output_type": "stream",
          "name": "stdout",
          "text": [
            "/content/drive/MyDrive/VERIYAPILARI_ISTKA\n"
          ]
        }
      ]
    }
  ]
}