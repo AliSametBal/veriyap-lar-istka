{
  "nbformat": 4,
  "nbformat_minor": 0,
  "metadata": {
    "colab": {
      "provenance": []
    },
    "kernelspec": {
      "name": "python3",
      "display_name": "Python 3"
    },
    "language_info": {
      "name": "python"
    }
  },
  "cells": [
    {
      "cell_type": "markdown",
      "source": [
        "# ***-DERS 2 VERİ TİPLER-***"
      ],
      "metadata": {
        "id": "954T65QC-puI"
      }
    },
    {
      "cell_type": "code",
      "execution_count": 2,
      "metadata": {
        "id": "VGMT59Uqp1Ml"
      },
      "outputs": [],
      "source": [
        "# Geçerli değişken tanımlaması\n",
        "degisken_1= 10\n",
        "Degisken2= 20\n",
        "_degisken3= 30"
      ]
    },
    {
      "cell_type": "markdown",
      "source": [
        "# ***Geçerli Değişken Tanımlamaları***"
      ],
      "metadata": {
        "id": "4I5Owu-zwhQO"
      }
    },
    {
      "cell_type": "code",
      "source": [
        "# Geçersiz değişken tanımlaması\n",
        "1degisken= 40\n",
        "degisken-4=50"
      ],
      "metadata": {
        "colab": {
          "base_uri": "https://localhost:8080/",
          "height": 106
        },
        "id": "-gUPX7mjwlNE",
        "outputId": "04a2e560-5434-4011-a939-43e30fdf80e1"
      },
      "execution_count": 3,
      "outputs": [
        {
          "output_type": "error",
          "ename": "SyntaxError",
          "evalue": "invalid decimal literal (<ipython-input-3-683c3d52f428>, line 2)",
          "traceback": [
            "\u001b[0;36m  File \u001b[0;32m\"<ipython-input-3-683c3d52f428>\"\u001b[0;36m, line \u001b[0;32m2\u001b[0m\n\u001b[0;31m    1degisken= 40\u001b[0m\n\u001b[0m    ^\u001b[0m\n\u001b[0;31mSyntaxError\u001b[0m\u001b[0;31m:\u001b[0m invalid decimal literal\n"
          ]
        }
      ]
    },
    {
      "cell_type": "markdown",
      "source": [
        "# **Geçersiz Değişken Tanımlamaları**"
      ],
      "metadata": {
        "id": "_bECH6-Lw0GA"
      }
    },
    {
      "cell_type": "code",
      "source": [
        "# Değişken Tanımlama İşlemi\n",
        "x = 5\n",
        "y = \"Merhaba Dünya\"\n",
        "\n",
        "print(x)\n",
        "print(y)"
      ],
      "metadata": {
        "colab": {
          "base_uri": "https://localhost:8080/"
        },
        "id": "jslglXxTw41Y",
        "outputId": "8cb5b61a-b8b0-4f5c-9771-7c4b46c8128f"
      },
      "execution_count": 8,
      "outputs": [
        {
          "output_type": "stream",
          "name": "stdout",
          "text": [
            "5\n",
            "Merhaba Dünya\n"
          ]
        }
      ]
    },
    {
      "cell_type": "markdown",
      "source": [
        "#***Değişken Tanımlama İşlemi***"
      ],
      "metadata": {
        "id": "KedcR72kxaAD"
      }
    },
    {
      "cell_type": "code",
      "source": [
        "# Integer - Tamsayı tanımlaması\n",
        "\n",
        "a = 10\n",
        "print(type(a))"
      ],
      "metadata": {
        "colab": {
          "base_uri": "https://localhost:8080/"
        },
        "id": "9sv7Q6te51mA",
        "outputId": "0895f16b-9ae0-4cce-e9e7-b1e5657be405"
      },
      "execution_count": 10,
      "outputs": [
        {
          "output_type": "stream",
          "name": "stdout",
          "text": [
            "<class 'int'>\n"
          ]
        }
      ]
    },
    {
      "cell_type": "markdown",
      "source": [
        "# ***integer tam sayı tanımlaması***"
      ],
      "metadata": {
        "id": "Z33_Qvxw6TKX"
      }
    },
    {
      "cell_type": "code",
      "source": [
        "# Float - Ondalıklı Sayı tanımlaması\n",
        "\n",
        "b=20.5\n",
        "print(type(b))"
      ],
      "metadata": {
        "colab": {
          "base_uri": "https://localhost:8080/"
        },
        "id": "3cu5A3uo6c6d",
        "outputId": "f1ecdcd1-c653-4cc0-8664-f0afef7a6fe7"
      },
      "execution_count": 11,
      "outputs": [
        {
          "output_type": "stream",
          "name": "stdout",
          "text": [
            "<class 'float'>\n"
          ]
        }
      ]
    },
    {
      "cell_type": "markdown",
      "source": [
        "# ***float ondalık sayı tanımlaması***"
      ],
      "metadata": {
        "id": "NfJ255a46qGN"
      }
    },
    {
      "cell_type": "code",
      "source": [
        "# int'ten floata'a çevrimin gerçekleştirilmesi\n",
        "x = 10\n",
        "y =float(x)\n",
        "print(y, type(y))"
      ],
      "metadata": {
        "colab": {
          "base_uri": "https://localhost:8080/"
        },
        "id": "Q86Xzg9z6uIU",
        "outputId": "4b27eb42-cbbd-4b16-b65b-f6fc39932c42"
      },
      "execution_count": 12,
      "outputs": [
        {
          "output_type": "stream",
          "name": "stdout",
          "text": [
            "10.0 <class 'float'>\n"
          ]
        }
      ]
    },
    {
      "cell_type": "markdown",
      "source": [
        "# ***int'ten floata'a çevirim***"
      ],
      "metadata": {
        "id": "Ya6OF4WQ7Clj"
      }
    },
    {
      "cell_type": "code",
      "source": [
        "# float 'tan int'e çevrimin gerçeklşetirmesi\n",
        "a = 12.34\n",
        "b = int(a)\n",
        "print(b, type(b))"
      ],
      "metadata": {
        "colab": {
          "base_uri": "https://localhost:8080/"
        },
        "id": "gyc7p5Bw7JxS",
        "outputId": "1d3391a1-eed1-4dff-858e-024698fc7ac1"
      },
      "execution_count": 16,
      "outputs": [
        {
          "output_type": "stream",
          "name": "stdout",
          "text": [
            "12 <class 'int'>\n"
          ]
        }
      ]
    },
    {
      "cell_type": "markdown",
      "source": [
        "# ***float'tan int'e çevirim***"
      ],
      "metadata": {
        "id": "zfEub0TO7snx"
      }
    },
    {
      "cell_type": "code",
      "source": [
        "# String _ Metinsel içerik tanımlaması\n",
        "\n",
        "c= \"Python Programlama\"\n",
        "print(c)\n",
        "print(type(c))"
      ],
      "metadata": {
        "colab": {
          "base_uri": "https://localhost:8080/"
        },
        "id": "5-hJqChA7xZX",
        "outputId": "1d7a6b22-41f5-4457-c27b-11e2a4747cc1"
      },
      "execution_count": 18,
      "outputs": [
        {
          "output_type": "stream",
          "name": "stdout",
          "text": [
            "Python Programlama\n",
            "<class 'str'>\n"
          ]
        }
      ]
    },
    {
      "cell_type": "markdown",
      "source": [
        "# ***string metinsel içerik tanımlaması***"
      ],
      "metadata": {
        "id": "DyeRkfsU7_0_"
      }
    },
    {
      "cell_type": "code",
      "source": [
        "# Boolean (True - False) - Doğru / Yanlış tanımlaması\n",
        "\n",
        "d = True\n",
        "e = False\n",
        "print(d)\n",
        "print(type(e))"
      ],
      "metadata": {
        "colab": {
          "base_uri": "https://localhost:8080/"
        },
        "id": "z0Kns45y8Gn1",
        "outputId": "47c588f1-aa56-495a-e434-6efc5813f41a"
      },
      "execution_count": 19,
      "outputs": [
        {
          "output_type": "stream",
          "name": "stdout",
          "text": [
            "True\n",
            "<class 'bool'>\n"
          ]
        }
      ]
    },
    {
      "cell_type": "markdown",
      "source": [
        "# ***Doğru Yanlış Tanımlaması***"
      ],
      "metadata": {
        "id": "HJvf6oES9buX"
      }
    },
    {
      "cell_type": "code",
      "source": [
        "# List - Liste tanımlaması\n",
        "\n",
        "my_list = [1,2,3,4,5]\n",
        "print(type(my_list))\n",
        "print(my_list)"
      ],
      "metadata": {
        "colab": {
          "base_uri": "https://localhost:8080/"
        },
        "id": "bPvgTMMF9gMf",
        "outputId": "4c2a8833-2186-45a6-99df-8c51037f3be0"
      },
      "execution_count": 20,
      "outputs": [
        {
          "output_type": "stream",
          "name": "stdout",
          "text": [
            "<class 'list'>\n",
            "[1, 2, 3, 4, 5]\n"
          ]
        }
      ]
    },
    {
      "cell_type": "markdown",
      "source": [
        "# ***Liste tanımlaması***"
      ],
      "metadata": {
        "id": "UZvbz48M-Pt2"
      }
    },
    {
      "cell_type": "code",
      "source": [
        "# Tuple - Demet tanımlaması\n",
        "\n",
        "my_tuple = (1, 2, 3, 4, 5)\n",
        "print(type(my_tuple))\n",
        "print(my_tuple)"
      ],
      "metadata": {
        "colab": {
          "base_uri": "https://localhost:8080/"
        },
        "id": "aw2OAFyp-To2",
        "outputId": "bee01382-4274-4aa5-9dc7-16a7fcca0ac6"
      },
      "execution_count": 21,
      "outputs": [
        {
          "output_type": "stream",
          "name": "stdout",
          "text": [
            "<class 'tuple'>\n",
            "(1, 2, 3, 4, 5)\n"
          ]
        }
      ]
    },
    {
      "cell_type": "markdown",
      "source": [
        "Dictionary - Sözlük Nedir?\n",
        "\n",
        "Sözlükler, anahtar-değer (key-value) çiftlerini depolayan veri yapılarıdır.\n",
        "Her anahtar benzersizdir ve bir değere karşılık gelir.\n",
        "Sözlükler sırasızdır ve değiştirilebilir.\n",
        "Sözlük Metotları\n",
        "\n",
        "keys(): Sözlüğün anahtarlarını döner.\n",
        "\n",
        "values(): Sözlüğün değerlerini döner.\n",
        "\n",
        "items(): Sözlüğün anahtar-değer çiftlerini döner."
      ],
      "metadata": {
        "id": "BgA1xte0_eZ6"
      }
    },
    {
      "cell_type": "code",
      "source": [
        "# Dictionary - Sözlük Örneği -> Öğrencilerin notlarını tutan bir sözlük\n",
        "notlar = {\n",
        "    \"Ali\": 85,\n",
        "    \"Veli\": 90,\n",
        "    \"Ayşe\": 78\n",
        "}\n",
        "\n",
        "notlar [\"Fatma\"] = 92 # Yeni öğrenci ekleme\n",
        "\n",
        "notlar[\"Ali\"]= 88 # Bir öğrencinin notunu güncelleme\n",
        "\n",
        "print(notlar)\n"
      ],
      "metadata": {
        "colab": {
          "base_uri": "https://localhost:8080/"
        },
        "id": "saR0z547_oDJ",
        "outputId": "d4f58f18-6e7b-4817-ee0f-af7001d2aa75"
      },
      "execution_count": 22,
      "outputs": [
        {
          "output_type": "stream",
          "name": "stdout",
          "text": [
            "{'Ali': 88, 'Veli': 90, 'Ayşe': 78, 'Fatma': 92}\n"
          ]
        }
      ]
    },
    {
      "cell_type": "markdown",
      "source": [
        "# ***Dictionary - Sözlük Örneği -> Öğrencilerin notlarını tutan bir sözlük***"
      ],
      "metadata": {
        "id": "dKUOflwnA7wr"
      }
    },
    {
      "cell_type": "code",
      "source": [
        "print(notlar.keys())   #dict_keys(['isim', 'yas', 'meslek'])\n",
        "print(notlar.values()) #dict_values(['Ahmet', 26, 'Mühendis'])\n",
        "print(notlar.items())  #dict_items([('isim', 'Ahmet'), ('yas', 26), ('meslek', 'Mühendis')])"
      ],
      "metadata": {
        "colab": {
          "base_uri": "https://localhost:8080/"
        },
        "id": "IbUwY_y-BAEn",
        "outputId": "139c57c9-583e-4229-ffbe-1444972b6ad2"
      },
      "execution_count": 23,
      "outputs": [
        {
          "output_type": "stream",
          "name": "stdout",
          "text": [
            "dict_keys(['Ali', 'Veli', 'Ayşe', 'Fatma'])\n",
            "dict_values([88, 90, 78, 92])\n",
            "dict_items([('Ali', 88), ('Veli', 90), ('Ayşe', 78), ('Fatma', 92)])\n"
          ]
        }
      ]
    },
    {
      "cell_type": "markdown",
      "source": [
        "Set - Küme Nedir?\n",
        "\n",
        "Kümeler, benzersiz elemanlardan oluşan sırasız koleksiyonlardır.\n",
        "Kümeler değiştirilebilir ve tekrarlayan eleman içermez.\n",
        "Küme Metotları\n",
        "\n",
        "add(): Küme içerisine eleman ekler.\n",
        "\n",
        "remove(): Küme içerisinden eleman siler.\n",
        "\n",
        "union(): İki kümenin birleşimini döner.\n",
        "\n",
        "intersection(): İki kümenin kesişimini döner.\n",
        "\n",
        "difference(): İki kümenin farkını döner."
      ],
      "metadata": {
        "id": "jhYyHDyhByxT"
      }
    },
    {
      "cell_type": "code",
      "source": [
        "# Set - Küme Örneği -> Bir yazılım etkinliğine katılan kişilerin oluşturduğu kümeler\n",
        "kodyazanlar = {\"Ahmet\",\"Mehmet\",\"Ayşe\"}\n",
        "kodyazmayanlar = {\"Ayşe\",\"Fatma\",\"Veli\"}\n",
        "\n",
        "# Kafasına Göre Takılan Öğrenciler\n",
        "ortak = kodyazanlar.intersection(kodyazmayanlar)\n",
        "print(\"Kafasına Göre Takılan Öğrenciler Listesi:\", ortak)\n",
        "\n",
        "# Etkinlikte Kod Çalışması Yapmayan Öğrencilerin Tespiti\n",
        "Kod_yazmayan = kodyazmayanlar.difference(kodyazanlar)\n",
        "print(\"Kod çalışması yapmayan öğrenci listesi:\", Kod_yazmayan)\n",
        "\n",
        "# Yazılım Eğitiminin Öğrenci İmza Listesi\n",
        "imza_listesi = kodyazanlar.union(kodyazmayanlar)\n",
        "print(\"Etkinlik katılımcıları:\",imza_listesi)"
      ],
      "metadata": {
        "colab": {
          "base_uri": "https://localhost:8080/"
        },
        "id": "RafFEIDCB5ry",
        "outputId": "862875f4-d56a-4a94-f2d6-86ba37c78dee"
      },
      "execution_count": 25,
      "outputs": [
        {
          "output_type": "stream",
          "name": "stdout",
          "text": [
            "Kafasına Göre Takılan Öğrenciler Listesi: {'Ayşe'}\n",
            "Kod çalışması yapmayan öğrenci listesi: {'Fatma', 'Veli'}\n",
            "Etkinlik katılımcıları: {'Fatma', 'Mehmet', 'Ayşe', 'Ahmet', 'Veli'}\n"
          ]
        }
      ]
    },
    {
      "cell_type": "code",
      "source": [
        "giris = input(\"Bir sayı girin: \")\n",
        "try:\n",
        "    num = float(giris)\n",
        "    print(f\"Girilen sayı: {num}, tipi: {type(num)},\", abs(num))\n",
        "except ValueError:\n",
        "    print(\"Geçersiz veri girdiniz.\")"
      ],
      "metadata": {
        "colab": {
          "base_uri": "https://localhost:8080/"
        },
        "id": "MKRNuy5wD9_1",
        "outputId": "74bee522-e509-4489-a390-5c8e7c8ba7e0"
      },
      "execution_count": 31,
      "outputs": [
        {
          "output_type": "stream",
          "name": "stdout",
          "text": [
            "Bir sayı girin: 2005\n",
            "Girilen sayı: 2005.0, tipi: <class 'float'>, 2005.0\n"
          ]
        }
      ]
    },
    {
      "cell_type": "code",
      "source": [
        "# 0 ila 1 arasında rastgele bir ondalık sayı üretir\n",
        "\n",
        "import random\n",
        "\n",
        "rastgele_float = random.random()\n",
        "print(\"Rastgele Deger:\",rastgele_float)"
      ],
      "metadata": {
        "colab": {
          "base_uri": "https://localhost:8080/"
        },
        "id": "T6XyyBuyFC8i",
        "outputId": "4b5d2ee3-5ef6-4189-c876-8e3bdaa59a3b"
      },
      "execution_count": 29,
      "outputs": [
        {
          "output_type": "stream",
          "name": "stdout",
          "text": [
            "Rastgele Deger: 0.22925490057685394\n"
          ]
        }
      ]
    },
    {
      "cell_type": "code",
      "source": [
        "# 1 ile 10 arasında  (her iki sınır dahil) rastgele bir tam sayı üretir\n",
        "\n",
        "import random\n",
        "\n",
        "rastgele_sayi = random.randint(1, 10)\n",
        "print(\"Rastgele Deger:\", rastgele_sayi)"
      ],
      "metadata": {
        "colab": {
          "base_uri": "https://localhost:8080/"
        },
        "id": "2_aqs_WQFvfK",
        "outputId": "986c093e-b18f-4cdb-975f-c83e849e6ae4"
      },
      "execution_count": 32,
      "outputs": [
        {
          "output_type": "stream",
          "name": "stdout",
          "text": [
            "Rastgele Deger: 2\n"
          ]
        }
      ]
    }
  ]
}