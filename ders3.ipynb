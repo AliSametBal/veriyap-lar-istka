{
  "nbformat": 4,
  "nbformat_minor": 0,
  "metadata": {
    "colab": {
      "provenance": []
    },
    "kernelspec": {
      "name": "python3",
      "display_name": "Python 3"
    },
    "language_info": {
      "name": "python"
    }
  },
  "cells": [
    {
      "cell_type": "markdown",
      "source": [
        "DERS 3 KOŞUL YAPILARI"
      ],
      "metadata": {
        "id": "XVji8hki5e8B"
      }
    },
    {
      "cell_type": "code",
      "execution_count": null,
      "metadata": {
        "colab": {
          "base_uri": "https://localhost:8080/"
        },
        "id": "1ofBAiIt3wuy",
        "outputId": "d5c9c799-b869-4051-d440-dfb2b1a5930e"
      },
      "outputs": [
        {
          "output_type": "stream",
          "name": "stdout",
          "text": [
            "Merhaba, İGÜ - İSTKA / Ders 3\n"
          ]
        }
      ],
      "source": [
        "print(\"Merhaba, İGÜ - İSTKA / Ders 3\") # print ekrana çıktı veren bir koddur."
      ]
    },
    {
      "cell_type": "code",
      "source": [
        "import sys # import python programlama dilinde yazılıma kütüphane eklemeye yarayan bir kod blogudur.\n",
        "print(sys.version)"
      ],
      "metadata": {
        "colab": {
          "base_uri": "https://localhost:8080/"
        },
        "id": "Oo0pUJ9N4Cpy",
        "outputId": "2ea0c218-9ea0-4255-c086-faf46f53202f"
      },
      "execution_count": null,
      "outputs": [
        {
          "output_type": "stream",
          "name": "stdout",
          "text": [
            "3.10.12 (main, Jul 29 2024, 16:56:48) [GCC 11.4.0]\n"
          ]
        }
      ]
    },
    {
      "cell_type": "code",
      "source": [
        "from google.colab import drive # google colab - drive bağlantısı\n",
        "\n",
        "drive.mount('/content/drive')\n"
      ],
      "metadata": {
        "colab": {
          "base_uri": "https://localhost:8080/"
        },
        "id": "HNjvWMIo4FeA",
        "outputId": "f161e722-66e5-4221-c5bd-fd0c0a0efd9f"
      },
      "execution_count": null,
      "outputs": [
        {
          "output_type": "stream",
          "name": "stdout",
          "text": [
            "Mounted at /content/drive\n"
          ]
        }
      ]
    },
    {
      "cell_type": "code",
      "source": [
        "\n",
        "import os\n",
        "\n",
        "os.chdir('/content/drive/My Drive/VERIYAPILARI_ISTKA')\n",
        "\n",
        "!pwd # bize kodun çıktısını dosya yolu olarak veren kod blogudur.\n"
      ],
      "metadata": {
        "colab": {
          "base_uri": "https://localhost:8080/"
        },
        "id": "F4G_8nZW4OUQ",
        "outputId": "ab0fa59e-498e-4967-dfba-5aa5d6959f3e"
      },
      "execution_count": null,
      "outputs": [
        {
          "output_type": "stream",
          "name": "stdout",
          "text": [
            "/content/drive/My Drive/VERIYAPILARI_ISTKA\n"
          ]
        }
      ]
    },
    {
      "cell_type": "markdown",
      "source": [
        "PYTHON Koşul Yapıları\n",
        "\n",
        "if Koşul yapısı -> belirtilen şart doğruysa (True) bir bloğun çalıştırılmasını sağlamaktadır.\n",
        "\n",
        "if-else Koşul yapısı -> if bloğu sağlanmazsa, else bloğu çalıştırılır.\n",
        "\n",
        "if-elif-else Koşul yapısı -> Birden fazla koşul kontrol etmek için elif (else if) kullanılır. İlk doğru koşul bulunana kadar kontrol devam eder. Hiçbiri doğru değilse, else bloğu çalıştırılır.\n",
        "\n",
        "İç İçe Koşullar\n",
        "\n",
        "Mantıksal Operatörler ile Koşul Yapıları"
      ],
      "metadata": {
        "id": "VvTZN5Sr4XXJ"
      }
    },
    {
      "cell_type": "code",
      "source": [
        "# if Koşul yapısı\n",
        "\n",
        "x = 10\n",
        "\n",
        "if x > 5:\n",
        "    print(\"x, 5'ten büyüktür.\")"
      ],
      "metadata": {
        "colab": {
          "base_uri": "https://localhost:8080/"
        },
        "id": "mBDg8cDu4efR",
        "outputId": "88dff416-d7a4-4d93-a2f8-15d388dc029d"
      },
      "execution_count": null,
      "outputs": [
        {
          "output_type": "stream",
          "name": "stdout",
          "text": [
            "x, 5'ten büyüktür.\n"
          ]
        }
      ]
    },
    {
      "cell_type": "code",
      "source": [
        "# if-else Koşulu yapısı\n",
        "\n",
        "x = 3\n",
        "\n",
        "if x > 5:\n",
        "    print(\"x, 5'ten büyüktür.\")\n",
        "else:\n",
        "    print(\"x, 5'ten küçük veya eşittir.\")\n",
        "\n"
      ],
      "metadata": {
        "colab": {
          "base_uri": "https://localhost:8080/"
        },
        "id": "10tzUJfR4xEp",
        "outputId": "eab61c3f-a85f-4bd2-9a04-64e2e6a3a1b3"
      },
      "execution_count": null,
      "outputs": [
        {
          "output_type": "stream",
          "name": "stdout",
          "text": [
            "x, 5'ten küçük veya eşittir.\n"
          ]
        }
      ]
    },
    {
      "cell_type": "code",
      "source": [
        "# if-elif-else Koşul Yapısı\n",
        "\n",
        "x = 8\n",
        "\n",
        "if x > 10:\n",
        "    print(\"x, 10'dan büyüktür.\")\n",
        "elif x > 5:\n",
        "    print(\"x, 5'ten büyüktür ama 10'dan küçük veya eşittir.\")\n",
        "else:\n",
        "    print(\"x, 5'ten küçük veya eşittir.\")\n"
      ],
      "metadata": {
        "colab": {
          "base_uri": "https://localhost:8080/"
        },
        "id": "C2CjyxVK42-x",
        "outputId": "263c136c-d969-4088-edca-54c82f62a618"
      },
      "execution_count": null,
      "outputs": [
        {
          "output_type": "stream",
          "name": "stdout",
          "text": [
            "x, 5'ten büyüktür ama 10'dan küçük veya eşittir.\n"
          ]
        }
      ]
    },
    {
      "cell_type": "code",
      "source": [
        "# İç İçe Koşul Yapısı\n",
        "\n",
        "x = 12\n",
        "y = 8\n",
        "\n",
        "if x > 10:\n",
        "    if y > 5:\n",
        "        print(\"x, 10'dan büyük ve y, 5'ten büyüktür.\")  # Bu satır çalışır\n",
        "    else:\n",
        "        print(\"x, 10'dan büyük ama y, 5'ten küçük veya eşittir.\")\n",
        "else:\n",
        "    print(\"x, 10'dan küçük veya eşittir.\")"
      ],
      "metadata": {
        "colab": {
          "base_uri": "https://localhost:8080/"
        },
        "id": "gxBb-4Dd45_p",
        "outputId": "2c840274-78ff-45a4-80e0-52ee359b8ebe"
      },
      "execution_count": null,
      "outputs": [
        {
          "output_type": "stream",
          "name": "stdout",
          "text": [
            "x, 10'dan büyük ve y, 5'ten büyüktür.\n"
          ]
        }
      ]
    },
    {
      "cell_type": "code",
      "source": [
        "# Mantıksal Operatörler ile Koşullar\n",
        "\n",
        "x = 7\n",
        "y = 3\n",
        "\n",
        "# 'and' operatörü ile\n",
        "if x > 5 and y > 2:\n",
        "    print(\"x, 5'ten büyük ve y, 2'den büyüktür.\")  # Bu satır çalışır\n",
        "\n",
        "# 'or' operatörü ile\n",
        "if x > 5 or y > 5:\n",
        "    print(\"x veya y, 5'ten büyüktür.\")  # Bu satır çalışır\n",
        "\n",
        "# 'not' operatörü ile\n",
        "if not (x > 10):\n",
        "    print(\"x, 10'dan büyük değildir.\")  # Bu satır çalışır"
      ],
      "metadata": {
        "colab": {
          "base_uri": "https://localhost:8080/"
        },
        "id": "_6eHtnDg476J",
        "outputId": "fe939295-809c-4bc0-a18d-c9c1fce52f13"
      },
      "execution_count": null,
      "outputs": [
        {
          "output_type": "stream",
          "name": "stdout",
          "text": [
            "x, 5'ten büyük ve y, 2'den büyüktür.\n",
            "x veya y, 5'ten büyüktür.\n",
            "x, 10'dan büyük değildir.\n"
          ]
        }
      ]
    },
    {
      "cell_type": "markdown",
      "source": [
        "Koşul Yapısı Örnekleri"
      ],
      "metadata": {
        "id": "FTNLZIEG5HRZ"
      }
    },
    {
      "cell_type": "code",
      "source": [
        "# Örnek 1: Not Sistemi\n",
        "\n",
        "notu = 85 #not farkını gösterilecek...\n",
        "\n",
        "if notu >= 90:\n",
        "    print(\"Harf notu: A\")\n",
        "elif notu >= 80:\n",
        "    print(\"Harf notu: B\")  # Bu satır çalışır\n",
        "elif notu >= 70:\n",
        "    print(\"Harf notu: C\")\n",
        "elif notu >= 60:\n",
        "    print(\"Harf notu: D\")\n",
        "else:\n",
        "    print(\"Harf notu: F\")"
      ],
      "metadata": {
        "colab": {
          "base_uri": "https://localhost:8080/"
        },
        "id": "MW27T_WJ5INJ",
        "outputId": "a12736af-058d-4a5c-bed2-025da330c66b"
      },
      "execution_count": null,
      "outputs": [
        {
          "output_type": "stream",
          "name": "stdout",
          "text": [
            "Harf notu: B\n"
          ]
        }
      ]
    },
    {
      "cell_type": "code",
      "source": [
        "# Örnek 2: Yaş Kontrolü\n",
        "\n",
        "yas = 20\n",
        "\n",
        "if yas < 18:\n",
        "    print(\"Reşit değilsiniz.\")\n",
        "elif yas < 21:\n",
        "    print(\"Reşitsiniz ama içecek satın alamazsınız.\")\n",
        "else:\n",
        "    print(\"İçecek satın alabilirsiniz.\")\n"
      ],
      "metadata": {
        "colab": {
          "base_uri": "https://localhost:8080/"
        },
        "id": "wdEOsOKP5MSB",
        "outputId": "d0ff548b-93a6-4ead-c2c2-9b88565080e6"
      },
      "execution_count": null,
      "outputs": [
        {
          "output_type": "stream",
          "name": "stdout",
          "text": [
            "Reşitsiniz ama içecek satın alamazsınız.\n"
          ]
        }
      ]
    },
    {
      "cell_type": "code",
      "source": [
        "# Örnek 3: Sayı Pozitif, Negatif veya Sıfır mı?\n",
        "\n",
        "sayi = int(input(\"Bir sayı gir\"))\n",
        "\n",
        "if sayi > 0:\n",
        "    print(\"Sayı pozitiftir.\")\n",
        "elif sayi < 0:\n",
        "    print(\"Sayı negatiftir.\")  # Bu satır çalışır\n",
        "else:\n",
        "    print(\"Sayı sıfırdır.\")"
      ],
      "metadata": {
        "colab": {
          "base_uri": "https://localhost:8080/"
        },
        "id": "q18Ku2wo5Xry",
        "outputId": "d6a4607e-d534-44b9-93cb-9cb771c59ada"
      },
      "execution_count": null,
      "outputs": [
        {
          "output_type": "stream",
          "name": "stdout",
          "text": [
            "Bir sayı gir8\n",
            "Sayı pozitiftir.\n"
          ]
        }
      ]
    }
  ]
}