{
  "nbformat": 4,
  "nbformat_minor": 0,
  "metadata": {
    "colab": {
      "provenance": []
    },
    "kernelspec": {
      "name": "python3",
      "display_name": "Python 3"
    },
    "language_info": {
      "name": "python"
    }
  },
  "cells": [
    {
      "cell_type": "code",
      "execution_count": 1,
      "metadata": {
        "id": "Hi8NArps9twk",
        "colab": {
          "base_uri": "https://localhost:8080/"
        },
        "outputId": "ef24d3f3-86f0-44b6-c1d3-866ab4cca985"
      },
      "outputs": [
        {
          "output_type": "stream",
          "name": "stdout",
          "text": [
            "Merhaba,İGÜ - İSTKA / Ders 4\n"
          ]
        }
      ],
      "source": [
        "print(\"Merhaba,İGÜ - İSTKA / Ders 4\") # print ekrana çıktı veren koddur"
      ]
    },
    {
      "cell_type": "code",
      "source": [
        "import sys # import python programlama dilinde yazılıma kütüphane eklemeye yarayan bir kod blogudur.\n",
        "print(sys.version)\n",
        ""
      ],
      "metadata": {
        "colab": {
          "base_uri": "https://localhost:8080/"
        },
        "id": "cfa8bGD1-fax",
        "outputId": "10a6ddde-72ca-46eb-be21-c68980c10124"
      },
      "execution_count": 2,
      "outputs": [
        {
          "output_type": "stream",
          "name": "stdout",
          "text": [
            "3.10.12 (main, Jul 29 2024, 16:56:48) [GCC 11.4.0]\n"
          ]
        }
      ]
    },
    {
      "cell_type": "code",
      "source": [
        "from google.colab import drive # google colab - drive bağlantısı\n",
        "\n",
        "drive.mount('/content/drive')\n",
        ""
      ],
      "metadata": {
        "colab": {
          "base_uri": "https://localhost:8080/"
        },
        "id": "3Oj9Qfdw-iOI",
        "outputId": "0151f6c3-6221-426f-88b7-fb3b4be0fe09"
      },
      "execution_count": 4,
      "outputs": [
        {
          "output_type": "stream",
          "name": "stdout",
          "text": [
            "Mounted at /content/drive\n"
          ]
        }
      ]
    },
    {
      "cell_type": "code",
      "source": [
        "import os\n",
        "\n",
        "os.chdir('/content/drive/My Drive/VERIYAPILARI_ISTKA')\n",
        "\n",
        "!pwd # bize kodun çıktısını dosya yolu olarak veren kod blogudur."
      ],
      "metadata": {
        "colab": {
          "base_uri": "https://localhost:8080/"
        },
        "id": "NTXnNib_-snD",
        "outputId": "a02c7f07-1063-45e8-a0aa-2ad44eb27da9"
      },
      "execution_count": 5,
      "outputs": [
        {
          "output_type": "stream",
          "name": "stdout",
          "text": [
            "/content/drive/My Drive/VERIYAPILARI_ISTKA\n"
          ]
        }
      ]
    },
    {
      "cell_type": "markdown",
      "source": [
        "PYTHON Döngü Yapıları\n",
        "\n",
        "Döngüler, belirli bir kod bölümünün birden fazla çalıştırmamıza olanak tanır. Döngüler, genellikle yazılımda tekrar eden işlemler için kullanılır.\n",
        "\n",
        "Döngü Türleri:\n",
        "\n",
        "for Döngüsü--> Belirli bir sıralama üzerinde iterasyon yapmak için kullanılır. Genellikle bir liste, dizi veya range fonksiyonu ile kullanılır.\n",
        "\n",
        "while Döngüsü--> Belirli bir koşul doğru olduğu sürece kod bloğunu çalıştırır.\n",
        "\n",
        "Döngü Kontrol Yapıları:\n",
        "\n",
        "break--> Döngüyü tamamen sonlandırır.\n",
        "continue--> Döngünün o anki tekrarı-iterasyonunu sonlandırır ve bir sonraki tekrara-iterasyona geçer.\n",
        "Döngü İçinde Döngü (İç İçe Döngüler):\n",
        "\n",
        "İç İçe for Döngüsü\n",
        "İç İçe while Döngüsü"
      ],
      "metadata": {
        "id": "MeEXkrFn-uVC"
      }
    },
    {
      "cell_type": "code",
      "source": [
        "# for döngüsü örneği: 0'dan 4'e kadar olan sayıları yazdırılması işlemidir.\n",
        "for i in range(5):\n",
        "  print(i)"
      ],
      "metadata": {
        "colab": {
          "base_uri": "https://localhost:8080/"
        },
        "id": "Yc5hlkY_-zuB",
        "outputId": "56df6743-c21b-4975-a4ff-e7595fecac30"
      },
      "execution_count": 10,
      "outputs": [
        {
          "output_type": "stream",
          "name": "stdout",
          "text": [
            "0\n",
            "1\n",
            "2\n",
            "3\n",
            "4\n"
          ]
        }
      ]
    },
    {
      "cell_type": "code",
      "source": [
        "# for döngüsü örneği: alışveriş listesi oluşturma\n",
        "liste = [\"elma\", \"ekmek\", \"süt\", \"peynir\"]\n",
        "\n",
        "for alinacaklar in liste:\n",
        "  print(alinacaklar)\n"
      ],
      "metadata": {
        "colab": {
          "base_uri": "https://localhost:8080/"
        },
        "id": "38DAfQTlBGVH",
        "outputId": "67eff110-8ec8-46ac-d051-d84ffa6f60f2"
      },
      "execution_count": 16,
      "outputs": [
        {
          "output_type": "stream",
          "name": "stdout",
          "text": [
            "elma\n",
            "ekmek\n",
            "süt\n",
            "peynir\n"
          ]
        }
      ]
    },
    {
      "cell_type": "code",
      "source": [
        "# for döngüsü örneği: bir sınıftaki öğrencilerin notlarının ortalmasını hesaplama\n",
        "notlar = [85, 92, 78, 90, 88]\n",
        "\n",
        "toplam = 0\n",
        "for sayi in notlar:\n",
        "  toplam += sayi\n",
        "\n",
        "ortalama = toplam / len(notlar)\n",
        "print(\"Birinci Print -> Not Ortalaması: \", ortalama)\n",
        "print(f\"İkinci Print -> Not Ortalaması: {ortalama}\")"
      ],
      "metadata": {
        "colab": {
          "base_uri": "https://localhost:8080/"
        },
        "id": "bK1Exo_RBwId",
        "outputId": "ac9f3f7e-b97d-4046-d20b-abc20a929df1"
      },
      "execution_count": 17,
      "outputs": [
        {
          "output_type": "stream",
          "name": "stdout",
          "text": [
            "Birinci Print -> Not Ortalaması:  86.6\n",
            "İkinci Print -> Not Ortalaması: 86.6\n"
          ]
        }
      ]
    },
    {
      "cell_type": "code",
      "source": [
        "# while döngüsü örneği: 0'dan 4'e kadar olan sayıları yazdırılması işlemidir\n",
        "i = 0\n",
        "while i < 5:\n",
        "  print(i)\n",
        "  i += 1\n"
      ],
      "metadata": {
        "colab": {
          "base_uri": "https://localhost:8080/"
        },
        "id": "HF_6Xd3sN9uA",
        "outputId": "5a3260e7-8744-4f23-b7f4-0d7c87d70222"
      },
      "execution_count": 18,
      "outputs": [
        {
          "output_type": "stream",
          "name": "stdout",
          "text": [
            "0\n",
            "1\n",
            "2\n",
            "3\n",
            "4\n"
          ]
        }
      ]
    },
    {
      "cell_type": "code",
      "source": [
        "# Kullanıcıdan bir sayı alınması\n",
        "kullanici_girdisi = int(input(\"Bir Sayi Giriniz: \"))\n",
        "# 0'dan kullanıcı tarafından girilen sayıya kadar sıralama yapma\n",
        "i = 0\n",
        "while i <= kullanici_girdisi:\n",
        "  print(i)\n",
        "  i += 1"
      ],
      "metadata": {
        "colab": {
          "base_uri": "https://localhost:8080/"
        },
        "id": "PZNoG7aNOOSZ",
        "outputId": "bbe16f36-e719-4ee5-beb8-ff13b9fabda4"
      },
      "execution_count": 21,
      "outputs": [
        {
          "output_type": "stream",
          "name": "stdout",
          "text": [
            "Bir Sayi Giriniz: 6\n",
            "0\n",
            "1\n",
            "2\n",
            "3\n",
            "4\n",
            "5\n",
            "6\n"
          ]
        }
      ]
    },
    {
      "cell_type": "code",
      "source": [
        "# break örneği: 3'e ulaştığında döngü sonlandıran kod blogudur.\n",
        "for i in range(5):\n",
        "  if i == 3:\n",
        "    break\n",
        "  print(i)"
      ],
      "metadata": {
        "colab": {
          "base_uri": "https://localhost:8080/"
        },
        "id": "5GHtOGo7O_HT",
        "outputId": "2d3bb403-be0b-40da-8890-e914b5a74686"
      },
      "execution_count": 22,
      "outputs": [
        {
          "output_type": "stream",
          "name": "stdout",
          "text": [
            "0\n",
            "1\n",
            "2\n"
          ]
        }
      ]
    },
    {
      "cell_type": "code",
      "source": [
        "# continue örneği: 3'e ulaştığında o tekrar işlemini es geçen kod blogudur.\n",
        "for i in range(5):\n",
        "  if i == 3:\n",
        "    continue\n",
        "  print(i)\n"
      ],
      "metadata": {
        "colab": {
          "base_uri": "https://localhost:8080/"
        },
        "id": "kzPKv6QaPXb9",
        "outputId": "138e7229-2dd2-41e2-b8e1-9bde778073cb"
      },
      "execution_count": 23,
      "outputs": [
        {
          "output_type": "stream",
          "name": "stdout",
          "text": [
            "0\n",
            "1\n",
            "2\n",
            "4\n"
          ]
        }
      ]
    },
    {
      "cell_type": "code",
      "source": [
        "# iç içe for döngüsü örneği: 2 boyutlu bir matrisin elemanları üzerinde işlemler\n",
        "matris = [\n",
        "    [1,2,3],\n",
        "    [4,5,6],\n",
        "    [7,8,9]\n",
        "]\n",
        "\n",
        "for x in matris:\n",
        "  for y in x:\n",
        "    print(y)"
      ],
      "metadata": {
        "colab": {
          "base_uri": "https://localhost:8080/"
        },
        "id": "cSVc3wSzPqTH",
        "outputId": "592af5a6-fdc3-442f-a9ff-ef14a362f82f"
      },
      "execution_count": 24,
      "outputs": [
        {
          "output_type": "stream",
          "name": "stdout",
          "text": [
            "1\n",
            "2\n",
            "3\n",
            "4\n",
            "5\n",
            "6\n",
            "7\n",
            "8\n",
            "9\n"
          ]
        }
      ]
    },
    {
      "cell_type": "code",
      "source": [
        "# kullanıcıdan bilgi alınması\n",
        "while True:\n",
        "    try:\n",
        "        gelen_bilgi = int(input(\"Bir Sayi Giriniz:\"))\n",
        "        break\n",
        "    except ValueError:\n",
        "        print(\"Lütfen Sayi Giriniz!\")\n",
        "\n",
        "# 0'dan kullanıcı tarafından girilen sayıya kadar sıralama yapma\n",
        "i = 0\n",
        "while i <= gelen_bilgi:\n",
        "  print(i)\n",
        "  i += 1"
      ],
      "metadata": {
        "colab": {
          "base_uri": "https://localhost:8080/"
        },
        "id": "7XHUEG9MQRjE",
        "outputId": "5049aba4-d275-4926-df3f-d2143c73dc57"
      },
      "execution_count": 40,
      "outputs": [
        {
          "output_type": "stream",
          "name": "stdout",
          "text": [
            "Bir Sayi Giriniz:10\n",
            "0\n",
            "1\n",
            "2\n",
            "3\n",
            "4\n",
            "5\n",
            "6\n",
            "7\n",
            "8\n",
            "9\n",
            "10\n"
          ]
        }
      ]
    },
    {
      "cell_type": "code",
      "source": [
        "# while döngüsü örneği: kullanıcı bakiye bilgisinin sorgulanması\n",
        "toplam_ucret = 1000\n",
        "while toplam_ucret > 0:\n",
        "    try:\n",
        "        celilen_tutar = int(input(\"Çekmek istediğiniz miktarı girin: \"))\n",
        "        if celilen_tutar > toplam_ucret:\n",
        "            print(\"Yetersiz bakiye!\")\n",
        "            bilgi = input(\"İşleme devam etmek istiyor musunuz? (e/h): \").lower()\n",
        "            if bilgi == \"h\":\n",
        "                print(\"İşlem sonlandırıldı.\")\n",
        "                break\n",
        "        else:\n",
        "            toplam_ucret -= celilen_tutar\n",
        "            print(f\"Kalan bakiye: {toplam_ucret}\")\n",
        "        if toplam_ucret == 0:\n",
        "            print(\"Bakiye tükendi.\")\n",
        "            break\n",
        "    except ValueError:\n",
        "        print(\"Lütfen geçerli bir sayı girin!\")\n",
        "\n"
      ],
      "metadata": {
        "colab": {
          "base_uri": "https://localhost:8080/"
        },
        "id": "zao_ZOUHTDiK",
        "outputId": "c88179f1-1ff6-442f-c5ea-8f70e0b8aa2e"
      },
      "execution_count": 41,
      "outputs": [
        {
          "output_type": "stream",
          "name": "stdout",
          "text": [
            "Çekmek istediğiniz miktarı girin: 500\n",
            "Kalan bakiye: 500\n",
            "Çekmek istediğiniz miktarı girin: 20\n",
            "Kalan bakiye: 480\n",
            "Çekmek istediğiniz miktarı girin: 74\n",
            "Kalan bakiye: 406\n",
            "Çekmek istediğiniz miktarı girin: 406\n",
            "Kalan bakiye: 0\n",
            "Bakiye tükendi.\n"
          ]
        }
      ]
    }
  ]
}