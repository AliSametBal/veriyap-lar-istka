{
  "nbformat": 4,
  "nbformat_minor": 0,
  "metadata": {
    "colab": {
      "provenance": []
    },
    "kernelspec": {
      "name": "python3",
      "display_name": "Python 3"
    },
    "language_info": {
      "name": "python"
    }
  },
  "cells": [
    {
      "cell_type": "code",
      "execution_count": 1,
      "metadata": {
        "colab": {
          "base_uri": "https://localhost:8080/"
        },
        "id": "4NGfCXgXj1Oc",
        "outputId": "791e88ed-89f2-4709-c8cd-4ec137a2791e"
      },
      "outputs": [
        {
          "output_type": "stream",
          "name": "stdout",
          "text": [
            "Merhaba , İGÜ ,İSTKA Quiz \n"
          ]
        }
      ],
      "source": [
        "print(\"Merhaba , İGÜ ,İSTKA Quiz \") # Ekrana çıktı veren koddur"
      ]
    },
    {
      "cell_type": "code",
      "source": [
        "import sys # import pyhton programala dilinde yazılıma kütüphane eklemeye yarayan koddur\n",
        "print(sys.version)"
      ],
      "metadata": {
        "colab": {
          "base_uri": "https://localhost:8080/"
        },
        "id": "gOg3GdFQkErR",
        "outputId": "59e19016-9ce5-4b23-a703-cd0377fb0dea"
      },
      "execution_count": 2,
      "outputs": [
        {
          "output_type": "stream",
          "name": "stdout",
          "text": [
            "3.10.12 (main, Jul 29 2024, 16:56:48) [GCC 11.4.0]\n"
          ]
        }
      ]
    },
    {
      "cell_type": "code",
      "source": [
        "from google.colab import drive # google colab - drive bağlantısı\n",
        "drive.mount('/content/drive')"
      ],
      "metadata": {
        "colab": {
          "base_uri": "https://localhost:8080/"
        },
        "id": "h3K5E5YikcJR",
        "outputId": "9e28775a-9097-4084-cab1-aca361ca8e71"
      },
      "execution_count": 4,
      "outputs": [
        {
          "output_type": "stream",
          "name": "stdout",
          "text": [
            "Drive already mounted at /content/drive; to attempt to forcibly remount, call drive.mount(\"/content/drive\", force_remount=True).\n"
          ]
        }
      ]
    },
    {
      "cell_type": "code",
      "source": [
        "import os\n",
        "os.chdir(\"/content/drive/My Drive/VERIYAPILARI_ISTKA\")\n",
        "!pwd bize kodun dosya yolu ile çıktısını veren kod bloğudur"
      ],
      "metadata": {
        "colab": {
          "base_uri": "https://localhost:8080/"
        },
        "id": "nyc4oh__kqwi",
        "outputId": "f82b0997-9b0b-46f3-d337-56900f7dd04f"
      },
      "execution_count": 14,
      "outputs": [
        {
          "output_type": "stream",
          "name": "stdout",
          "text": [
            "/content/drive/My Drive/VERIYAPILARI_ISTKA\n"
          ]
        }
      ]
    },
    {
      "cell_type": "code",
      "source": [
        "isim_listesi = [\"Ali\", \"Şerafettin\", \"Osman\", \"İclal\", \"Ayşe\"]\n",
        "\n",
        "# Fonksiyon 1\n",
        "def en_uzun_isim(isim_listesi):\n",
        "    en_uzun_isim = isim_listesi[0]\n",
        "    en_uzun_indeks = 0\n",
        "    for i, isim in enumerate(isim_listesi):\n",
        "        if len(isim) > len(en_uzun_isim):\n",
        "            en_uzun_isim = isim\n",
        "            en_uzun_indeks = i\n",
        "    return en_uzun_isim, en_uzun_indeks\n",
        "\n",
        "# Fonksiyon 2\n",
        "def en_kisa_isim(isim_listesi):\n",
        "    en_kisa_isim = isim_listesi[0]\n",
        "    en_kisa_indeks = 0\n",
        "    for i, isim in enumerate(isim_listesi):\n",
        "        if len(isim) < len(en_kisa_isim):\n",
        "            en_kisa_isim = isim\n",
        "            en_kisa_indeks = i\n",
        "    return en_kisa_isim, en_kisa_indeks\n",
        "\n",
        "# Fonksiyonları çağırma\n",
        "uzun_isim, uzun_indeks = en_uzun_isim(isim_listesi)\n",
        "kisa_isim, kisa_indeks = en_kisa_isim(isim_listesi)\n",
        "\n",
        "print(f\"En uzun isim: '{uzun_isim}' (İndeks: {uzun_indeks})\")\n",
        "print(f\"En kısa isim: '{kisa_isim}' (İndeks: {kisa_indeks})\")"
      ],
      "metadata": {
        "colab": {
          "base_uri": "https://localhost:8080/"
        },
        "id": "eahkeHsyvp7z",
        "outputId": "a6115f40-5aaf-403c-b583-405bca8ffd2a"
      },
      "execution_count": 52,
      "outputs": [
        {
          "output_type": "stream",
          "name": "stdout",
          "text": [
            "En uzun isim: 'Şerafettin' (İndeks: 1)\n",
            "En kısa isim: 'Ali' (İndeks: 0)\n"
          ]
        }
      ]
    },
    {
      "cell_type": "code",
      "source": [
        "\n",
        "bolunenler = []\n",
        "\n",
        "for i in range(1, 175):\n",
        "    if i % 13 == 0:\n",
        "        bolunenler.append(i)\n",
        "\n",
        "print(\"13'e tam bölünenler:\", bolunenler)\n",
        "\n",
        "print(\"Toplam sayı adedi:\", len(bolunenler))\n",
        ""
      ],
      "metadata": {
        "colab": {
          "base_uri": "https://localhost:8080/"
        },
        "id": "TTKqDO65yLyh",
        "outputId": "ceb0aaac-4ca5-482c-a892-2ea37f4d0fa7"
      },
      "execution_count": 44,
      "outputs": [
        {
          "output_type": "stream",
          "name": "stdout",
          "text": [
            "13'e tam bölünenler: [13, 26, 39, 52, 65, 78, 91, 104, 117, 130, 143, 156, 169]\n",
            "Toplam sayı adedi: 13\n"
          ]
        }
      ]
    }
  ]
}
